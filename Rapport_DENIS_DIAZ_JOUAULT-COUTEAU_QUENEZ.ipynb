{
 "cells": [
  {
   "cell_type": "code",
   "execution_count": 1,
   "id": "04d586a9-4e84-4921-8d34-78de5496c9e1",
   "metadata": {},
   "outputs": [],
   "source": [
    "import numpy as np\n",
    "import pandas as pd\n",
    "import matplotlib.pyplot as plt\n",
    "import dm4bem"
   ]
  },
  {
   "cell_type": "markdown",
   "id": "1aed3f51-5e7c-4181-b3dd-4d412005d8c8",
   "metadata": {},
   "source": [
    "# Building Project"
   ]
  },
  {
   "cell_type": "markdown",
   "id": "8f64d31f-0822-4524-842e-76bb71cfbb44",
   "metadata": {},
   "source": [
    "## Parameters\n",
    "### Dimension of the Building \n",
    "\n",
    "Each Room has a cubic shape\n",
    "\n",
    "https://github.com/dm4bem-2023/1-model-team7/blob/c375fabf4c8fb06f8ce08dd8fe572f1d180b50a7/Schema.png "
   ]
  },
  {
   "cell_type": "code",
   "execution_count": 2,
   "id": "5477e2f9-2735-48e5-9e32-2ff6fe034aa5",
   "metadata": {
    "tags": []
   },
   "outputs": [],
   "source": [
    "l = 3\n",
    "Sg = l**2\n",
    "Sc = Si = 10 * Sg "
   ]
  },
  {
   "cell_type": "markdown",
   "id": "9e56fddc-ed2f-4162-ab85-ab3b641e8526",
   "metadata": {
    "tags": []
   },
   "source": [
    "We consider that M1,M2,M3 are inside the building and M4 is outside. Then the only exchange are between the inside and the outside with M4 and between the two rooms with M5\n",
    "\n",
    "### Thermo-Physical Properties\n",
    "We consider than the wall is made of a width of insulation and a width of concrete (eM=eI+eC)"
   ]
  },
  {
   "cell_type": "code",
   "execution_count": 3,
   "id": "9b62a3db-e4c2-4e7e-864a-aecd2231fd60",
   "metadata": {
    "tags": []
   },
   "outputs": [
    {
     "data": {
      "text/html": [
       "<div>\n",
       "<style scoped>\n",
       "    .dataframe tbody tr th:only-of-type {\n",
       "        vertical-align: middle;\n",
       "    }\n",
       "\n",
       "    .dataframe tbody tr th {\n",
       "        vertical-align: top;\n",
       "    }\n",
       "\n",
       "    .dataframe thead th {\n",
       "        text-align: right;\n",
       "    }\n",
       "</style>\n",
       "<table border=\"1\" class=\"dataframe\">\n",
       "  <thead>\n",
       "    <tr style=\"text-align: right;\">\n",
       "      <th></th>\n",
       "      <th>Density</th>\n",
       "      <th>Specific heat</th>\n",
       "    </tr>\n",
       "  </thead>\n",
       "  <tbody>\n",
       "    <tr>\n",
       "      <th>Air</th>\n",
       "      <td>1.2</td>\n",
       "      <td>1000</td>\n",
       "    </tr>\n",
       "  </tbody>\n",
       "</table>\n",
       "</div>"
      ],
      "text/plain": [
       "     Density  Specific heat\n",
       "Air      1.2           1000"
      ]
     },
     "execution_count": 3,
     "metadata": {},
     "output_type": "execute_result"
    }
   ],
   "source": [
    "concrete = {'Conductivity': 1.400,\n",
    "            'Density': 2400.0,\n",
    "            'Specific heat': 880,\n",
    "            'Width': 0.2,\n",
    "            'Surface': 9 * l**2}\n",
    "\n",
    "insulation = {'Conductivity': 0.027,\n",
    "              'Density': 55.0,\n",
    "              'Specific heat': 1210,\n",
    "              'Width': 0.1,\n",
    "              'Surface': 9 * l**2}\n",
    "\n",
    "glass = {'Conductivity': 1.4,\n",
    "         'Density': 2500,\n",
    "         'Specific heat': 1210,\n",
    "         'Width': 0.04,\n",
    "         'Surface': 2*(l**2)}\n",
    "\n",
    "wall = pd.DataFrame.from_dict({'Layer_out': insulation,\n",
    "                               'Layer_in': concrete,\n",
    "                               'Glass': glass},\n",
    "                              orient='index')\n",
    "wall\n",
    "\n",
    "air = {'Density': 1.2,                      # kg/m³\n",
    "       'Specific heat': 1000}               # J/(kg·K)\n",
    "# pd.DataFrame.from_dict(air, orient='index', columns=['air'])\n",
    "pd.DataFrame(air, index=['Air'])"
   ]
  },
  {
   "cell_type": "markdown",
   "id": "0dcd158b",
   "metadata": {},
   "source": [
    "### Radiative properties"
   ]
  },
  {
   "cell_type": "code",
   "execution_count": 4,
   "id": "ce27f02a",
   "metadata": {},
   "outputs": [
    {
     "name": "stdout",
     "output_type": "stream",
     "text": [
      "σ = 5.67e-08 W/(m²⋅K⁴)\n"
     ]
    }
   ],
   "source": [
    "# radiative properties\n",
    "ε_wLW = 0.85    # long wave emmisivity: wall surface (concrete)\n",
    "ε_gLW = 0.90    # long wave emmisivity: glass pyrex\n",
    "α_wSW = 0.25    # short wave absortivity: white smooth surface\n",
    "α_gSW = 0.38    # short wave absortivity: reflective blue glass\n",
    "τ_gSW = 0.30    # short wave transmitance: reflective blue glass\n",
    "\n",
    "σ = 5.67e-8     # W/(m²⋅K⁴) Stefan-Bolzmann constant\n",
    "print(f'σ = {σ} W/(m²⋅K⁴)')"
   ]
  },
  {
   "cell_type": "markdown",
   "id": "63f74cf3",
   "metadata": {},
   "source": [
    "### Convection properties"
   ]
  },
  {
   "cell_type": "code",
   "execution_count": 5,
   "id": "a5bcdd13",
   "metadata": {},
   "outputs": [
    {
     "data": {
      "text/html": [
       "<div>\n",
       "<style scoped>\n",
       "    .dataframe tbody tr th:only-of-type {\n",
       "        vertical-align: middle;\n",
       "    }\n",
       "\n",
       "    .dataframe tbody tr th {\n",
       "        vertical-align: top;\n",
       "    }\n",
       "\n",
       "    .dataframe thead th {\n",
       "        text-align: right;\n",
       "    }\n",
       "</style>\n",
       "<table border=\"1\" class=\"dataframe\">\n",
       "  <thead>\n",
       "    <tr style=\"text-align: right;\">\n",
       "      <th></th>\n",
       "      <th>in</th>\n",
       "      <th>out</th>\n",
       "    </tr>\n",
       "  </thead>\n",
       "  <tbody>\n",
       "    <tr>\n",
       "      <th>h0</th>\n",
       "      <td>8.0</td>\n",
       "      <td>25</td>\n",
       "    </tr>\n",
       "  </tbody>\n",
       "</table>\n",
       "</div>"
      ],
      "text/plain": [
       "     in  out\n",
       "h0  8.0   25"
      ]
     },
     "execution_count": 5,
     "metadata": {},
     "output_type": "execute_result"
    }
   ],
   "source": [
    "h0 = pd.DataFrame([{'in': 8., 'out': 25}], index=['h0'])  # W/(m²⋅K)\n",
    "# h = pd.DataFrame([{'in': 8., 'out': 25}])  # W/(m²⋅K)\n",
    "h0"
   ]
  },
  {
   "cell_type": "markdown",
   "id": "6df127d8",
   "metadata": {},
   "source": [
    "To take into account the long wave radiation, we add 4 at the value of h_in"
   ]
  },
  {
   "cell_type": "code",
   "execution_count": 6,
   "id": "71f600ac",
   "metadata": {},
   "outputs": [
    {
     "data": {
      "text/html": [
       "<div>\n",
       "<style scoped>\n",
       "    .dataframe tbody tr th:only-of-type {\n",
       "        vertical-align: middle;\n",
       "    }\n",
       "\n",
       "    .dataframe tbody tr th {\n",
       "        vertical-align: top;\n",
       "    }\n",
       "\n",
       "    .dataframe thead th {\n",
       "        text-align: right;\n",
       "    }\n",
       "</style>\n",
       "<table border=\"1\" class=\"dataframe\">\n",
       "  <thead>\n",
       "    <tr style=\"text-align: right;\">\n",
       "      <th></th>\n",
       "      <th>in</th>\n",
       "      <th>out</th>\n",
       "    </tr>\n",
       "  </thead>\n",
       "  <tbody>\n",
       "    <tr>\n",
       "      <th>h</th>\n",
       "      <td>12.0</td>\n",
       "      <td>25</td>\n",
       "    </tr>\n",
       "  </tbody>\n",
       "</table>\n",
       "</div>"
      ],
      "text/plain": [
       "     in  out\n",
       "h  12.0   25"
      ]
     },
     "execution_count": 6,
     "metadata": {},
     "output_type": "execute_result"
    }
   ],
   "source": [
    "h = pd.DataFrame([{'in': 12., 'out': 25}], index=['h'])  # W/(m²⋅K)\n",
    "# h = pd.DataFrame([{'in': 8., 'out': 25}])  # W/(m²⋅K)\n",
    "h"
   ]
  },
  {
   "cell_type": "markdown",
   "id": "b60e1fd8-406f-4e9f-ab2c-36f80326d170",
   "metadata": {},
   "source": [
    "### Thermal circuit"
   ]
  },
  {
   "cell_type": "markdown",
   "id": "9b1ba43e",
   "metadata": {},
   "source": [
    "Figure bellow shows the models of:\n",
    "\n",
    "concrete & insulation wall: in red;\n",
    "glass window: in green;\n",
    "ventilation: in magenta;\n",
    "indoor volume: in blue (conductances 6 & 7 for convection; conductance 5 for long wave radiation between the walls and the glass window);\n",
    "HVAC system: in black.\n",
    "\n",
    "Here is the thermal circuit :\n",
    "https://github.com/dm4bem-2023/1-model-team7/blob/c375fabf4c8fb06f8ce08dd8fe572f1d180b50a7/Schema%20thermique.png  \n",
    "\n",
    "The sources are:\n",
    "\n",
    " T0 outdoor temperature, °C;\n",
    " Ti,sp setpoint temperaure for the indoor air, °C;\n",
    " ϕ0 solar radiation absorbed by the outdoor surface of the wall, W;\n",
    " ϕi solar radiation absorbed by the indoor surface of the wall, W;\n",
    " Qa auxiliary heat gains (i.e., occupants, electrical devices, etc.), W;\n",
    " ϕa solar radiation absorbed by the glass, W."
   ]
  },
  {
   "cell_type": "code",
   "execution_count": 7,
   "id": "6888228f-8585-4394-a809-e0c4f36fd205",
   "metadata": {},
   "outputs": [
    {
     "data": {
      "text/html": [
       "<div>\n",
       "<style scoped>\n",
       "    .dataframe tbody tr th:only-of-type {\n",
       "        vertical-align: middle;\n",
       "    }\n",
       "\n",
       "    .dataframe tbody tr th {\n",
       "        vertical-align: top;\n",
       "    }\n",
       "\n",
       "    .dataframe thead th {\n",
       "        text-align: right;\n",
       "    }\n",
       "</style>\n",
       "<table border=\"1\" class=\"dataframe\">\n",
       "  <thead>\n",
       "    <tr style=\"text-align: right;\">\n",
       "      <th></th>\n",
       "      <th>Conductance</th>\n",
       "    </tr>\n",
       "  </thead>\n",
       "  <tbody>\n",
       "    <tr>\n",
       "      <th>Layer_out</th>\n",
       "      <td>21.87</td>\n",
       "    </tr>\n",
       "    <tr>\n",
       "      <th>Layer_in</th>\n",
       "      <td>567.00</td>\n",
       "    </tr>\n",
       "    <tr>\n",
       "      <th>Glass</th>\n",
       "      <td>630.00</td>\n",
       "    </tr>\n",
       "  </tbody>\n",
       "</table>\n",
       "</div>"
      ],
      "text/plain": [
       "           Conductance\n",
       "Layer_out        21.87\n",
       "Layer_in        567.00\n",
       "Glass           630.00"
      ]
     },
     "execution_count": 7,
     "metadata": {},
     "output_type": "execute_result"
    }
   ],
   "source": [
    "# Conduction\n",
    "G_cd = wall['Conductivity'] / wall['Width'] * wall['Surface']\n",
    "pd.DataFrame(G_cd, columns={'Conductance'})"
   ]
  },
  {
   "cell_type": "code",
   "execution_count": 8,
   "id": "681f2155",
   "metadata": {},
   "outputs": [
    {
     "name": "stdout",
     "output_type": "stream",
     "text": [
      "Gw =       in   out\n",
      "h  972.0  2025 W/K\n"
     ]
    }
   ],
   "source": [
    "# Convection wall\n",
    "Gw = h * wall['Surface'][0]     # wall\n",
    "print(f'Gw = {Gw} W/K')"
   ]
  },
  {
   "cell_type": "code",
   "execution_count": 9,
   "id": "ff13269e",
   "metadata": {},
   "outputs": [
    {
     "name": "stdout",
     "output_type": "stream",
     "text": [
      "Gg =       in  out\n",
      "h  216.0  450 W/K\n"
     ]
    }
   ],
   "source": [
    "# Convection glass\n",
    "Gg = h * wall['Surface'][2]     # glass\n",
    "print(f'Gg = {Gg} W/K')"
   ]
  },
  {
   "cell_type": "code",
   "execution_count": 10,
   "id": "5f75f2a2",
   "metadata": {
    "scrolled": true
   },
   "outputs": [
    {
     "name": "stdout",
     "output_type": "stream",
     "text": [
      "Fwg = 0.2222222222222222\n"
     ]
    }
   ],
   "source": [
    "# Long wave radiation\n",
    "\n",
    "# view factor wall-glass\n",
    "Fwg = glass['Surface'] / concrete['Surface']\n",
    "print(f'Fwg = {Fwg}')"
   ]
  },
  {
   "cell_type": "markdown",
   "id": "56b2eafa",
   "metadata": {},
   "source": [
    "As explained before we do not need these factors because it is included in the value of h_in"
   ]
  },
  {
   "cell_type": "code",
   "execution_count": 11,
   "id": "143bb254",
   "metadata": {},
   "outputs": [
    {
     "name": "stdout",
     "output_type": "stream",
     "text": [
      "Va_dot = 0.0075 m³/s\n"
     ]
    }
   ],
   "source": [
    "# ventilation flow rate\n",
    "Va = l**3                   # m³, volume of air\n",
    "ACH = 1                     # air changes per hour\n",
    "Va_dot = ACH / 3600 * Va    # m³/s, air infiltration\n",
    "print(f'Va_dot = {Va_dot} m³/s')"
   ]
  },
  {
   "cell_type": "code",
   "execution_count": 12,
   "id": "9a08d9df",
   "metadata": {},
   "outputs": [
    {
     "name": "stdout",
     "output_type": "stream",
     "text": [
      "Gv = 9.0 W/K\n"
     ]
    }
   ],
   "source": [
    "# ventilation & advection\n",
    "Gv = air['Density'] * air['Specific heat'] * Va_dot\n",
    "print(f'Gv = {Gv} W/K')"
   ]
  },
  {
   "cell_type": "code",
   "execution_count": 13,
   "id": "e3c85755",
   "metadata": {},
   "outputs": [],
   "source": [
    "# Proportionnal Controller\n",
    "# P-controler gain\n",
    "Kp = 1e6            # almost perfect controller Kp -> ∞\n",
    "#Kp = 1e-3           # no controller Kp -> 0\n",
    "#Kp = 0"
   ]
  },
  {
   "cell_type": "markdown",
   "id": "141fe7bc",
   "metadata": {},
   "source": [
    "## Thermal Capacities\n",
    "### Walls"
   ]
  },
  {
   "cell_type": "code",
   "execution_count": 14,
   "id": "371d9969",
   "metadata": {},
   "outputs": [
    {
     "data": {
      "text/html": [
       "<div>\n",
       "<style scoped>\n",
       "    .dataframe tbody tr th:only-of-type {\n",
       "        vertical-align: middle;\n",
       "    }\n",
       "\n",
       "    .dataframe tbody tr th {\n",
       "        vertical-align: top;\n",
       "    }\n",
       "\n",
       "    .dataframe thead th {\n",
       "        text-align: right;\n",
       "    }\n",
       "</style>\n",
       "<table border=\"1\" class=\"dataframe\">\n",
       "  <thead>\n",
       "    <tr style=\"text-align: right;\">\n",
       "      <th></th>\n",
       "      <th>Capacity</th>\n",
       "    </tr>\n",
       "  </thead>\n",
       "  <tbody>\n",
       "    <tr>\n",
       "      <th>Layer_out</th>\n",
       "      <td>539055.0</td>\n",
       "    </tr>\n",
       "    <tr>\n",
       "      <th>Layer_in</th>\n",
       "      <td>34214400.0</td>\n",
       "    </tr>\n",
       "    <tr>\n",
       "      <th>Glass</th>\n",
       "      <td>2178000.0</td>\n",
       "    </tr>\n",
       "    <tr>\n",
       "      <th>Air</th>\n",
       "      <td>32400.0</td>\n",
       "    </tr>\n",
       "  </tbody>\n",
       "</table>\n",
       "</div>"
      ],
      "text/plain": [
       "             Capacity\n",
       "Layer_out    539055.0\n",
       "Layer_in   34214400.0\n",
       "Glass       2178000.0\n",
       "Air           32400.0"
      ]
     },
     "execution_count": 14,
     "metadata": {},
     "output_type": "execute_result"
    }
   ],
   "source": [
    "C = wall['Density'] * wall['Specific heat'] * wall['Surface'] * wall['Width']\n",
    "C['Air'] = air['Density'] * air['Specific heat'] * Va\n",
    "pd.DataFrame(C, columns={'Capacity'})"
   ]
  },
  {
   "cell_type": "markdown",
   "id": "59214b2d",
   "metadata": {},
   "source": [
    "## System of algebraic_differential equations (DAE)\n",
    "### A : Incident Matrix"
   ]
  },
  {
   "cell_type": "code",
   "execution_count": 15,
   "id": "07a3071d",
   "metadata": {},
   "outputs": [],
   "source": [
    "A = np.zeros([18, 11])       # n° of branches X n° of nodes\n",
    "A[0, 0] = 1                 # branch 0: -> node 0\n",
    "A[1, 0], A[1, 1] = -1, 1    # branch 1: node 0 -> node 1\n",
    "A[2, 1], A[2, 2] = -1, 1    # branch 2: node 1 -> node 2\n",
    "A[3, 2], A[3, 3] = -1, 1    # branch 3: node 2 -> node 3\n",
    "A[4, 3], A[4, 4] = -1, 1    # branch 4: node 3 -> node 4\n",
    "A[5, 4], A[5, 5] = -1, 1    # branch 5: node 4 -> node 5\n",
    "A[6, 5], A[6, 6] = -1, 1    # branch 6: node 5 -> node 6\n",
    "A[7, 6], A[7, 7] = -1, 1    # branch 7: node 6 -> node 7\n",
    "A[8, 7], A[8, 8]= 1, -1     # branch 8: node 7 -> node 8\n",
    "A[9, 8]= 1                 # branch 9: -> node 8\n",
    "A[10, 7], A[10, 9]= -1, 1   # branch 10: node 7 -> node 9\n",
    "A[11, 9], A[11, 6]= 1, -1   # branch 11: node 9 -> node 6\n",
    "A[12, 10], A[12, 2]= -1, 1  # branch 12: node 10-> node 2\n",
    "A[13, 1], A[13, 10]= -1, 1  # branch 13: node 1 -> node 10\n",
    "A[14, 10] = 1               # branch 14: -> node 10\n",
    "A[15, 10] = 1               # branch 15: -> node 10\n",
    "A[16, 9] = 1                # branch 16: -> node 9\n",
    "A[17, 9] = 1                # branch 17: -> node 9\n",
    "\n",
    "# np.set_printoptions(suppress=False)\n",
    "# pd.DataFrame(A)"
   ]
  },
  {
   "cell_type": "markdown",
   "id": "73292909",
   "metadata": {},
   "source": [
    "### G : Incident Matrix"
   ]
  },
  {
   "cell_type": "code",
   "execution_count": 16,
   "id": "89873158",
   "metadata": {},
   "outputs": [
    {
     "name": "stdout",
     "output_type": "stream",
     "text": [
      "G =  [[2.2500e+02 0.0000e+00 0.0000e+00 0.0000e+00 0.0000e+00 0.0000e+00\n",
      "  0.0000e+00 0.0000e+00 0.0000e+00 0.0000e+00 0.0000e+00 0.0000e+00\n",
      "  0.0000e+00 0.0000e+00 0.0000e+00 0.0000e+00 0.0000e+00 0.0000e+00]\n",
      " [0.0000e+00 3.1500e+02 0.0000e+00 0.0000e+00 0.0000e+00 0.0000e+00\n",
      "  0.0000e+00 0.0000e+00 0.0000e+00 0.0000e+00 0.0000e+00 0.0000e+00\n",
      "  0.0000e+00 0.0000e+00 0.0000e+00 0.0000e+00 0.0000e+00 0.0000e+00]\n",
      " [0.0000e+00 0.0000e+00 0.0000e+00 0.0000e+00 0.0000e+00 0.0000e+00\n",
      "  0.0000e+00 0.0000e+00 0.0000e+00 0.0000e+00 0.0000e+00 0.0000e+00\n",
      "  0.0000e+00 0.0000e+00 0.0000e+00 0.0000e+00 0.0000e+00 0.0000e+00]\n",
      " [0.0000e+00 0.0000e+00 0.0000e+00 2.8350e+02 0.0000e+00 0.0000e+00\n",
      "  0.0000e+00 0.0000e+00 0.0000e+00 0.0000e+00 0.0000e+00 0.0000e+00\n",
      "  0.0000e+00 0.0000e+00 0.0000e+00 0.0000e+00 0.0000e+00 0.0000e+00]\n",
      " [0.0000e+00 0.0000e+00 0.0000e+00 0.0000e+00 2.8350e+02 0.0000e+00\n",
      "  0.0000e+00 0.0000e+00 0.0000e+00 0.0000e+00 0.0000e+00 0.0000e+00\n",
      "  0.0000e+00 0.0000e+00 0.0000e+00 0.0000e+00 0.0000e+00 0.0000e+00]\n",
      " [0.0000e+00 0.0000e+00 0.0000e+00 0.0000e+00 0.0000e+00 1.0935e+01\n",
      "  0.0000e+00 0.0000e+00 0.0000e+00 0.0000e+00 0.0000e+00 0.0000e+00\n",
      "  0.0000e+00 0.0000e+00 0.0000e+00 0.0000e+00 0.0000e+00 0.0000e+00]\n",
      " [0.0000e+00 0.0000e+00 0.0000e+00 0.0000e+00 0.0000e+00 0.0000e+00\n",
      "  1.0935e+01 0.0000e+00 0.0000e+00 0.0000e+00 0.0000e+00 0.0000e+00\n",
      "  0.0000e+00 0.0000e+00 0.0000e+00 0.0000e+00 0.0000e+00 0.0000e+00]\n",
      " [0.0000e+00 0.0000e+00 0.0000e+00 0.0000e+00 0.0000e+00 0.0000e+00\n",
      "  0.0000e+00 0.0000e+00 0.0000e+00 0.0000e+00 0.0000e+00 0.0000e+00\n",
      "  0.0000e+00 0.0000e+00 0.0000e+00 0.0000e+00 0.0000e+00 0.0000e+00]\n",
      " [0.0000e+00 0.0000e+00 0.0000e+00 0.0000e+00 0.0000e+00 0.0000e+00\n",
      "  0.0000e+00 0.0000e+00 3.1500e+02 0.0000e+00 0.0000e+00 0.0000e+00\n",
      "  0.0000e+00 0.0000e+00 0.0000e+00 0.0000e+00 0.0000e+00 0.0000e+00]\n",
      " [0.0000e+00 0.0000e+00 0.0000e+00 0.0000e+00 0.0000e+00 0.0000e+00\n",
      "  0.0000e+00 0.0000e+00 0.0000e+00 2.2500e+02 0.0000e+00 0.0000e+00\n",
      "  0.0000e+00 0.0000e+00 0.0000e+00 0.0000e+00 0.0000e+00 0.0000e+00]\n",
      " [0.0000e+00 0.0000e+00 0.0000e+00 0.0000e+00 0.0000e+00 0.0000e+00\n",
      "  0.0000e+00 0.0000e+00 0.0000e+00 0.0000e+00 1.0800e+02 0.0000e+00\n",
      "  0.0000e+00 0.0000e+00 0.0000e+00 0.0000e+00 0.0000e+00 0.0000e+00]\n",
      " [0.0000e+00 0.0000e+00 0.0000e+00 0.0000e+00 0.0000e+00 0.0000e+00\n",
      "  0.0000e+00 0.0000e+00 0.0000e+00 0.0000e+00 0.0000e+00 4.8600e+02\n",
      "  0.0000e+00 0.0000e+00 0.0000e+00 0.0000e+00 0.0000e+00 0.0000e+00]\n",
      " [0.0000e+00 0.0000e+00 0.0000e+00 0.0000e+00 0.0000e+00 0.0000e+00\n",
      "  0.0000e+00 0.0000e+00 0.0000e+00 0.0000e+00 0.0000e+00 0.0000e+00\n",
      "  4.8600e+02 0.0000e+00 0.0000e+00 0.0000e+00 0.0000e+00 0.0000e+00]\n",
      " [0.0000e+00 0.0000e+00 0.0000e+00 0.0000e+00 0.0000e+00 0.0000e+00\n",
      "  0.0000e+00 0.0000e+00 0.0000e+00 0.0000e+00 0.0000e+00 0.0000e+00\n",
      "  0.0000e+00 1.0800e+02 0.0000e+00 0.0000e+00 0.0000e+00 0.0000e+00]\n",
      " [0.0000e+00 0.0000e+00 0.0000e+00 0.0000e+00 0.0000e+00 0.0000e+00\n",
      "  0.0000e+00 0.0000e+00 0.0000e+00 0.0000e+00 0.0000e+00 0.0000e+00\n",
      "  0.0000e+00 0.0000e+00 9.0000e+00 0.0000e+00 0.0000e+00 0.0000e+00]\n",
      " [0.0000e+00 0.0000e+00 0.0000e+00 0.0000e+00 0.0000e+00 0.0000e+00\n",
      "  0.0000e+00 0.0000e+00 0.0000e+00 0.0000e+00 0.0000e+00 0.0000e+00\n",
      "  0.0000e+00 0.0000e+00 0.0000e+00 1.0000e+06 0.0000e+00 0.0000e+00]\n",
      " [0.0000e+00 0.0000e+00 0.0000e+00 0.0000e+00 0.0000e+00 0.0000e+00\n",
      "  0.0000e+00 0.0000e+00 0.0000e+00 0.0000e+00 0.0000e+00 0.0000e+00\n",
      "  0.0000e+00 0.0000e+00 0.0000e+00 0.0000e+00 1.0000e+06 0.0000e+00]\n",
      " [0.0000e+00 0.0000e+00 0.0000e+00 0.0000e+00 0.0000e+00 0.0000e+00\n",
      "  0.0000e+00 0.0000e+00 0.0000e+00 0.0000e+00 0.0000e+00 0.0000e+00\n",
      "  0.0000e+00 0.0000e+00 0.0000e+00 0.0000e+00 0.0000e+00 9.0000e+00]]\n"
     ]
    }
   ],
   "source": [
    "G = np.zeros([18, 18])       # n° of branches X n° of nodes\n",
    "G[0, 0] = (h['out']*glass['Surface'])/2                \n",
    "G[1, 1] = (glass['Conductivity']*glass['Surface']/2)/glass['Width']\n",
    "G[2, 2] = 0\n",
    "G[3, 3] = (concrete['Conductivity']*concrete['Surface']/2)/concrete['Width']\n",
    "G[4, 4] = (concrete['Conductivity']*concrete['Surface']/2)/concrete['Width']              \n",
    "G[5, 5] = (insulation['Conductivity']*insulation['Surface']/2)/insulation['Width']\n",
    "G[6, 6] = (insulation['Conductivity']*insulation['Surface']/2)/insulation['Width']\n",
    "G[7, 7] = 0\n",
    "G[8, 8] = (glass['Conductivity']*glass['Surface']/2)/glass['Width']                  \n",
    "G[9, 9] = (h['out']*glass['Surface'])/2 \n",
    "G[10, 10] = (h['in']*glass['Surface'])/2  \n",
    "G[11, 11] = (h['in']*concrete['Surface'])/2 \n",
    "G[12, 12] = (h['in']*concrete['Surface'])/2                   \n",
    "G[13, 13] = (h['in']*glass['Surface'])/2 \n",
    "G[14, 14] = Gv \n",
    "G[15, 15] = Kp\n",
    "G[16, 16] = Kp                  \n",
    "G[17, 17] = Gv\n",
    "print(f'G = ', G)"
   ]
  },
  {
   "cell_type": "markdown",
   "id": "791c0ce8",
   "metadata": {},
   "source": [
    "### C : Capacity Matrix"
   ]
  },
  {
   "cell_type": "code",
   "execution_count": 17,
   "id": "0eb07633",
   "metadata": {},
   "outputs": [],
   "source": [
    "neglect_air_glass = True\n",
    "\n",
    "if neglect_air_glass:\n",
    "    C = np.diag([0, 0, 0, C['Layer_out'], 0, C['Layer_in'], 0, 0,\n",
    "                 0, 0, 0])\n",
    "else:\n",
    "    C = np.diag([C['Glass'], 0, 0, C['Layer_out'], 0, C['Layer_in'], 0, 0, C['Glass'],\n",
    "                 C['Air'], C['Air']])\n",
    "\n",
    "# pd.set_option(\"display.precision\", 3)\n",
    "# pd.DataFrame(C)"
   ]
  },
  {
   "cell_type": "markdown",
   "id": "e08a1ad8",
   "metadata": {},
   "source": [
    "### b : temperature source vector "
   ]
  },
  {
   "cell_type": "code",
   "execution_count": 18,
   "id": "213fc011",
   "metadata": {},
   "outputs": [
    {
     "name": "stdout",
     "output_type": "stream",
     "text": [
      "b =  [1. 0. 0. 0. 0. 0. 0. 0. 0. 1. 0. 0. 0. 0. 1. 1. 1. 1.]\n"
     ]
    }
   ],
   "source": [
    "b = np.zeros(18)        # branches\n",
    "b[[0, 9, 14, 15, 16, 17]] = 1   # branches with temperature sources\n",
    "print(f'b = ', b)"
   ]
  },
  {
   "cell_type": "markdown",
   "id": "4186422d",
   "metadata": {},
   "source": [
    "### f : heat flow source  vector "
   ]
  },
  {
   "cell_type": "code",
   "execution_count": 19,
   "id": "7ce275aa",
   "metadata": {},
   "outputs": [
    {
     "name": "stdout",
     "output_type": "stream",
     "text": [
      "f =  [1. 0. 1. 0. 0. 0. 1. 0. 1. 1. 1.]\n"
     ]
    }
   ],
   "source": [
    "f = np.zeros(11)         # nodes\n",
    "f[[0, 2, 6, 8, 9, 10]] = 1     # nodes with heat-flow sources\n",
    "print(f'f = ', f)"
   ]
  },
  {
   "cell_type": "markdown",
   "id": "908104c3",
   "metadata": {},
   "source": [
    "### y : output vector "
   ]
  },
  {
   "cell_type": "code",
   "execution_count": 20,
   "id": "3827a0db",
   "metadata": {},
   "outputs": [
    {
     "name": "stdout",
     "output_type": "stream",
     "text": [
      "y =  [0. 0. 0. 0. 0. 0. 0. 0. 0. 1. 1.]\n"
     ]
    }
   ],
   "source": [
    "y = np.zeros(11)         # nodes\n",
    "y[[9, 10]] = 1              # nodes (temperatures) of interest\n",
    "print(f'y = ', y)"
   ]
  },
  {
   "cell_type": "markdown",
   "id": "97e1495c",
   "metadata": {},
   "source": [
    "## State-space representation\n"
   ]
  },
  {
   "cell_type": "code",
   "execution_count": 21,
   "id": "99fba495",
   "metadata": {},
   "outputs": [
    {
     "name": "stdout",
     "output_type": "stream",
     "text": [
      "As = \n",
      " [[-3.51632886e-04  1.95321179e-05]\n",
      " [ 3.07732587e-07 -6.20298705e-07]] \n",
      "\n",
      "Bs = \n",
      " [[1.96748470e-08 0.00000000e+00 2.98870294e-09 3.32078105e-04\n",
      "  0.00000000e+00 0.00000000e+00 8.74437643e-11 6.83666992e-07\n",
      "  0.00000000e+00 0.00000000e+00 0.00000000e+00 3.32078105e-10]\n",
      " [0.00000000e+00 1.85175438e-11 0.00000000e+00 0.00000000e+00\n",
      "  3.12544787e-07 2.81290308e-12 0.00000000e+00 0.00000000e+00\n",
      "  6.43452704e-10 8.23001947e-14 3.12544787e-13 0.00000000e+00]] \n",
      "\n",
      "Cs = \n",
      " [[0.00000000e+00 1.06935324e-05]\n",
      " [1.79008363e-04 0.00000000e+00]] \n",
      "\n",
      "Ds = \n",
      " [[0.00000000e+00 5.92429721e-05 0.00000000e+00 0.00000000e+00\n",
      "  9.99921064e-01 8.99928958e-06 0.00000000e+00 0.00000000e+00\n",
      "  9.77917911e-07 2.63302098e-07 9.99921064e-07 0.00000000e+00]\n",
      " [5.92330006e-05 0.00000000e+00 8.99777485e-06 9.99752761e-01\n",
      "  0.00000000e+00 0.00000000e+00 2.63257780e-07 6.31422796e-07\n",
      "  0.00000000e+00 0.00000000e+00 0.00000000e+00 9.99752761e-07]] \n",
      "\n"
     ]
    }
   ],
   "source": [
    "[As, Bs, Cs, Ds] = dm4bem.tc2ss(A, G, b, C, f, y)\n",
    "print('As = \\n', As, '\\n')\n",
    "print('Bs = \\n', Bs, '\\n')\n",
    "print('Cs = \\n', Cs, '\\n')\n",
    "print('Ds = \\n', Ds, '\\n')"
   ]
  },
  {
   "cell_type": "markdown",
   "id": "739551c4",
   "metadata": {},
   "source": [
    "### Steady State"
   ]
  },
  {
   "cell_type": "markdown",
   "id": "25c1587b",
   "metadata": {},
   "source": [
    "First we are going to check the model in steady state to see if it is correct.\n",
    "We are going to consider that : \n",
    "\n",
    "- The controller is not active, $K_p \\rightarrow 0$,\n",
    "- The outdoor temperature is $T_o = 10 \\, \\mathrm{^\\circ C}$,\n",
    "- The indoor temperature setpoint is $T_{i,sp} = 20 \\, \\mathrm{^\\circ C}$,\n",
    "- All flow rate sources are zero."
   ]
  },
  {
   "cell_type": "code",
   "execution_count": 22,
   "id": "84f8da07",
   "metadata": {},
   "outputs": [
    {
     "name": "stdout",
     "output_type": "stream",
     "text": [
      "b =  [10.  0.  0.  0.  0.  0.  0.  0.  0. 10.  0.  0.  0.  0. 10. 20. 20. 10.]\n",
      "f =  [0. 0. 0. 0. 0. 0. 0. 0. 0. 0. 0.]\n"
     ]
    }
   ],
   "source": [
    "b = np.zeros(18)        # temperature sources\n",
    "b[[0, 9, 14, 17]] = 10      # outdoor temperature\n",
    "b[[15, 16]] = 20            # indoor set-point temperature\n",
    "print(f'b = ', b)\n",
    "\n",
    "f = np.zeros(11)         # flow-rate sources\n",
    "print(f'f = ', f)"
   ]
  },
  {
   "cell_type": "markdown",
   "id": "386c86d3",
   "metadata": {},
   "source": [
    "### System of Differential Algebraic Equations (DAE)\n",
    "The value of temperature in steady-state is obtained from the system of DAE by considering that $C \\dot{\\theta} = 0$ , then we have : $$\\theta_{ss} = (A^T G A)^{-1}(A^T G b + f)$$"
   ]
  },
  {
   "cell_type": "code",
   "execution_count": 23,
   "id": "133c0ad8",
   "metadata": {},
   "outputs": [
    {
     "name": "stdout",
     "output_type": "stream",
     "text": [
      "θ = [12.63304914 14.51379853 19.99931757 19.99931757 19.99931757 19.99931757\n",
      " 19.99931757 14.51379853 12.63304914 19.99931757 19.99931757] °C\n"
     ]
    }
   ],
   "source": [
    "θ = np.linalg.inv(A.T @ G @ A) @ (A.T @ G @ b + f)\n",
    "print(f'θ = {θ} °C')"
   ]
  },
  {
   "cell_type": "code",
   "execution_count": 24,
   "id": "678acd8a",
   "metadata": {},
   "outputs": [
    {
     "name": "stdout",
     "output_type": "stream",
     "text": [
      "As = \n",
      " [[-3.51632886e-04  1.95321179e-05]\n",
      " [ 3.07732587e-07 -6.20298705e-07]] \n",
      "\n",
      "Bs = \n",
      " [[1.96748470e-08 0.00000000e+00 2.98870294e-09 3.32078105e-04\n",
      "  0.00000000e+00 0.00000000e+00]\n",
      " [0.00000000e+00 1.85175438e-11 0.00000000e+00 0.00000000e+00\n",
      "  3.12544787e-07 2.81290308e-12]] \n",
      "\n",
      "Cs = \n",
      " [[0.00000000e+00 1.06935324e-05]\n",
      " [1.79008363e-04 0.00000000e+00]] \n",
      "\n",
      "Ds = \n",
      " [[0.00000000e+00 5.92429721e-05 0.00000000e+00 0.00000000e+00\n",
      "  9.99921064e-01 8.99928958e-06]\n",
      " [5.92330006e-05 0.00000000e+00 8.99777485e-06 9.99752761e-01\n",
      "  0.00000000e+00 0.00000000e+00]] \n",
      "\n"
     ]
    }
   ],
   "source": [
    "[As, Bs, Cs, Ds] = dm4bem.tc2ss(A, G, b, C, f, y)\n",
    "print('As = \\n', As, '\\n')\n",
    "print('Bs = \\n', Bs, '\\n')\n",
    "print('Cs = \\n', Cs, '\\n')\n",
    "print('Ds = \\n', Ds, '\\n')"
   ]
  },
  {
   "cell_type": "markdown",
   "id": "c5bfc1cd",
   "metadata": {},
   "source": [
    "### State-space representation\n",
    "The input vector u is described bellow : \n",
    "$$\n",
    "u = \\begin{bmatrix}\n",
    "b_T \\\\\n",
    "f_Q\n",
    "\\end{bmatrix}\n",
    "$$\n",
    "\n",
    "where:\n",
    "- $b_T$ is a vector of the nonzero elements of vector $b$ of temperature sources. \n",
    "    - $b_T = [T_o, T_o, T_o, T_{i,sp}, T_{i,sp},T_o]^T$ corresponding to branches 0, 9, 14, 15, 16 and 17, \n",
    "\n",
    "- $f_Q$ vector: the nonzero elements of vector $f$ of flow sources. $f_Q = [\\Phi_a, \\Phi_i, \\Phi_i, \\Phi_a, \\dot{Q}_a, \\dot{Q}_a]^T$ corresponding to nodes 0, 2, 6, 8, 9, 10 where:\n",
    "    - $\\Phi_o$: solar radiation absorbed by the outdoor surface of the wall, W;\n",
    "    - $\\Phi_i$: solar radiation absorbed by the indoor surface of the wall, W;\n",
    "    - $\\dot{Q}_a$: auxiliary heat gains (i.e., occupants, electrical devices, etc.), W;\n",
    "    - $\\Phi_a$: solar radiation absorbed by the glass, W."
   ]
  },
  {
   "cell_type": "code",
   "execution_count": 25,
   "id": "c2d68c56",
   "metadata": {},
   "outputs": [
    {
     "name": "stdout",
     "output_type": "stream",
     "text": [
      "u = [[10  0]\n",
      " [10  0]\n",
      " [10  0]\n",
      " [20  0]\n",
      " [20  0]\n",
      " [10  0]]\n"
     ]
    }
   ],
   "source": [
    "bT = np.array([[10], [10], [10], [20], [20], [10]])     # [To, To, To, Tisp, Tisp, To]\n",
    "fQ = np.array([[0], [0], [0], [0], [0], [0]])         # [Φa, Φi, Φi, Φa, Qa, Qa]\n",
    "u = np.hstack([bT, fQ])\n",
    "print(f'u = {u}')"
   ]
  },
  {
   "cell_type": "code",
   "execution_count": 26,
   "id": "b6cafda0",
   "metadata": {},
   "outputs": [
    {
     "name": "stdout",
     "output_type": "stream",
     "text": [
      "yss = [[19.99931757  0.        ]\n",
      " [19.99931757  0.        ]] °C\n"
     ]
    }
   ],
   "source": [
    "yss = (-Cs @ np.linalg.inv(As) @ Bs + Ds) @ u\n",
    "print(f'yss = {yss} °C')"
   ]
  },
  {
   "cell_type": "code",
   "execution_count": 27,
   "id": "05483ed7",
   "metadata": {},
   "outputs": [
    {
     "name": "stdout",
     "output_type": "stream",
     "text": [
      "eps1 = 3.55e-15 °C\n",
      "eps2 = 3.55e-15 °C\n",
      "Max error between DAE and state-space: 3.55e-15 °C\n"
     ]
    }
   ],
   "source": [
    "eps1=(abs(θ[9] - yss[0,0]))\n",
    "print(f'eps1 = \\\n",
    "{eps1:.2e} °C')\n",
    "eps2=(abs(θ[10] - yss[1,0]))\n",
    "print(f'eps2 = \\\n",
    "{eps2:.2e} °C')\n",
    "print(f'Max error between DAE and state-space: \\\n",
    "{max(eps1,eps2):.2e} °C')"
   ]
  },
  {
   "cell_type": "markdown",
   "id": "43ee071d",
   "metadata": {},
   "source": [
    "## Dynamic Simulation"
   ]
  },
  {
   "cell_type": "markdown",
   "id": "fa9d1e92",
   "metadata": {},
   "source": [
    "### Time Step\n",
    "To set up the time step we are going to determine the maximum time step : "
   ]
  },
  {
   "cell_type": "code",
   "execution_count": 28,
   "id": "9151c758",
   "metadata": {},
   "outputs": [
    {
     "name": "stdout",
     "output_type": "stream",
     "text": [
      "Time constants : \n",
      " [   2843.73659554 1657891.61112565] s \n",
      "\n",
      "2 x Time constants : \n",
      " [   5687.47319108 3315783.22225129] s \n",
      "\n",
      "Maximum time step: 5687.473191 s = 94.791220 min\n"
     ]
    }
   ],
   "source": [
    "λ = np.linalg.eigvals(As)    # eigenvalues of matrix As\n",
    "\n",
    "print('Time constants : \\n', -1 / λ, 's \\n')\n",
    "print('2 x Time constants : \\n', -2 / λ, 's \\n')\n",
    "dtmax = 2 * min(-1. / λ)\n",
    "print(f'Maximum time step: {dtmax:.6f} s = {dtmax / 60:.6f} min')"
   ]
  },
  {
   "cell_type": "markdown",
   "id": "d05f6115",
   "metadata": {},
   "source": [
    "We will chose a time step smaller than : $\\Delta t_{\\text{max}} = \\min \\left(-\\frac{2}{\\lambda_i}\\right)$"
   ]
  },
  {
   "cell_type": "code",
   "execution_count": 29,
   "id": "11802b60",
   "metadata": {},
   "outputs": [
    {
     "name": "stdout",
     "output_type": "stream",
     "text": [
      "dt = 5640.0 s = 94 min\n"
     ]
    }
   ],
   "source": [
    "# time step\n",
    "\n",
    "dt = np.floor(dtmax / 60) * 60   # s\n",
    "print(f'dt = {dt} s = {dt / 60:.0f} min')"
   ]
  },
  {
   "cell_type": "markdown",
   "id": "0f465d35",
   "metadata": {},
   "source": [
    "pour avoir time step pas trop court approximation de négligence capacité de l'air et de la vitre "
   ]
  },
  {
   "cell_type": "markdown",
   "id": "d3ae0f9f",
   "metadata": {},
   "source": [
    "### Settling time\n",
    "We consider that the settling time is roughly 4 times the larger time constant."
   ]
  },
  {
   "cell_type": "code",
   "execution_count": 30,
   "id": "605c13e0",
   "metadata": {},
   "outputs": [
    {
     "name": "stdout",
     "output_type": "stream",
     "text": [
      "4 * Time constants: \n",
      " [  11372 6631564] s \n",
      "\n",
      "Settling time: 6631566 s = 110526.1 min = 1842.10 h = 76.75 days\n"
     ]
    }
   ],
   "source": [
    "# settling time\n",
    "time_const = np.array([int(x) for x in sorted(-1 / λ)])\n",
    "print('4 * Time constants: \\n', 4 * time_const, 's \\n')\n",
    "\n",
    "t_settle = 4 * max(-1 / λ)\n",
    "print(f'Settling time: \\\n",
    "{t_settle:.0f} s = \\\n",
    "{t_settle / 60:.1f} min = \\\n",
    "{t_settle / (3600):.2f} h = \\\n",
    "{t_settle / (3600 * 24):.2f} days')"
   ]
  },
  {
   "cell_type": "markdown",
   "id": "8c49e341",
   "metadata": {},
   "source": [
    "### Step response\n",
    "We are now going to determine the dynamic response of the system to a step input."
   ]
  },
  {
   "cell_type": "markdown",
   "id": "c0f1bdd6",
   "metadata": {},
   "source": [
    "#### Duration\n",
    "We pay attention to make the duration of the simulation larger than the estimated settling time. Then it will give a number of time steps in the time vector"
   ]
  },
  {
   "cell_type": "code",
   "execution_count": 31,
   "id": "3ef300c7",
   "metadata": {},
   "outputs": [
    {
     "name": "stdout",
     "output_type": "stream",
     "text": [
      "Duration = 6634800.0 s\n",
      "Number of time steps = 1176\n"
     ]
    }
   ],
   "source": [
    "# Step response\n",
    "# -------------\n",
    "# Find the next multiple of 3600 s that is larger than t_settle\n",
    "duration = np.ceil(t_settle / 3600) * 3600\n",
    "n = int(np.floor(duration / dt))    # number of time steps\n",
    "t = np.arange(0, n * dt, dt)        # time vector for n time steps\n",
    "\n",
    "print(f'Duration = {duration} s')\n",
    "print(f'Number of time steps = {n}')\n",
    "# pd.DataFrame(t, columns=['time'])"
   ]
  },
  {
   "cell_type": "markdown",
   "id": "2e3c2a82",
   "metadata": {},
   "source": [
    "#### Input vector\n",
    "The input vector as the same shape as in the last part : \n",
    "$$\n",
    "u = \\begin{bmatrix}\n",
    "b_T \\\\\n",
    "f_Q\n",
    "\\end{bmatrix}\n",
    "$$\n"
   ]
  },
  {
   "cell_type": "code",
   "execution_count": 32,
   "id": "0f3db3b3",
   "metadata": {},
   "outputs": [],
   "source": [
    "u = np.zeros([12, n])                # u = [To To To Tisp Tisp To Φa, Φi, Φi, Φa, Qa, Qa]\n",
    "u[0:3, :] = 10 * np.ones([3, n])    # To = 10 for n time steps pr (0, 1, 2)\n",
    "u[3:5, :] = 20 * np.ones([2, n])      # Tisp = 20 for n time steps pr (3, 4)\n",
    "u[5, :] = 10 * np.ones([1, n])      # To = 10 for n time steps pr (5)\n",
    "\n",
    "# pd.DataFrame(u)"
   ]
  },
  {
   "cell_type": "markdown",
   "id": "16b00bca",
   "metadata": {},
   "source": [
    "#### Time Integration"
   ]
  },
  {
   "cell_type": "code",
   "execution_count": 33,
   "id": "1bfa4ffb",
   "metadata": {},
   "outputs": [
    {
     "ename": "ValueError",
     "evalue": "matmul: Input operand 1 has a mismatch in its core dimension 0, with gufunc signature (n?,k),(k,m?)->(n?,m?) (size 12 is different from 6)",
     "output_type": "error",
     "traceback": [
      "\u001b[1;31m---------------------------------------------------------------------------\u001b[0m",
      "\u001b[1;31mValueError\u001b[0m                                Traceback (most recent call last)",
      "\u001b[1;32m~\\AppData\\Local\\Temp\\ipykernel_5636\\1035861943.py\u001b[0m in \u001b[0;36m<cell line: 7>\u001b[1;34m()\u001b[0m\n\u001b[0;32m      7\u001b[0m \u001b[1;32mfor\u001b[0m \u001b[0mk\u001b[0m \u001b[1;32min\u001b[0m \u001b[0mrange\u001b[0m\u001b[1;33m(\u001b[0m\u001b[0mn\u001b[0m \u001b[1;33m-\u001b[0m \u001b[1;36m1\u001b[0m\u001b[1;33m)\u001b[0m\u001b[1;33m:\u001b[0m\u001b[1;33m\u001b[0m\u001b[1;33m\u001b[0m\u001b[0m\n\u001b[0;32m      8\u001b[0m     \u001b[0mθ_exp\u001b[0m\u001b[1;33m[\u001b[0m\u001b[1;33m:\u001b[0m\u001b[1;33m,\u001b[0m \u001b[0mk\u001b[0m \u001b[1;33m+\u001b[0m \u001b[1;36m1\u001b[0m\u001b[1;33m]\u001b[0m \u001b[1;33m=\u001b[0m \u001b[1;33m(\u001b[0m\u001b[0mI\u001b[0m \u001b[1;33m+\u001b[0m \u001b[0mdt\u001b[0m \u001b[1;33m*\u001b[0m \u001b[0mAs\u001b[0m\u001b[1;33m)\u001b[0m \u001b[1;33m@\u001b[0m\u001b[0;31m\\\u001b[0m\u001b[1;33m\u001b[0m\u001b[1;33m\u001b[0m\u001b[0m\n\u001b[1;32m----> 9\u001b[1;33m         \u001b[0mθ_exp\u001b[0m\u001b[1;33m[\u001b[0m\u001b[1;33m:\u001b[0m\u001b[1;33m,\u001b[0m \u001b[0mk\u001b[0m\u001b[1;33m]\u001b[0m \u001b[1;33m+\u001b[0m \u001b[0mdt\u001b[0m \u001b[1;33m*\u001b[0m \u001b[0mBs\u001b[0m \u001b[1;33m@\u001b[0m \u001b[0mu\u001b[0m\u001b[1;33m[\u001b[0m\u001b[1;33m:\u001b[0m\u001b[1;33m,\u001b[0m \u001b[0mk\u001b[0m\u001b[1;33m]\u001b[0m\u001b[1;33m\u001b[0m\u001b[1;33m\u001b[0m\u001b[0m\n\u001b[0m\u001b[0;32m     10\u001b[0m     \u001b[0mθ_imp\u001b[0m\u001b[1;33m[\u001b[0m\u001b[1;33m:\u001b[0m\u001b[1;33m,\u001b[0m \u001b[0mk\u001b[0m \u001b[1;33m+\u001b[0m \u001b[1;36m1\u001b[0m\u001b[1;33m]\u001b[0m \u001b[1;33m=\u001b[0m \u001b[0mnp\u001b[0m\u001b[1;33m.\u001b[0m\u001b[0mlinalg\u001b[0m\u001b[1;33m.\u001b[0m\u001b[0minv\u001b[0m\u001b[1;33m(\u001b[0m\u001b[0mI\u001b[0m \u001b[1;33m-\u001b[0m \u001b[0mdt\u001b[0m \u001b[1;33m*\u001b[0m \u001b[0mAs\u001b[0m\u001b[1;33m)\u001b[0m \u001b[1;33m@\u001b[0m\u001b[0;31m\\\u001b[0m\u001b[1;33m\u001b[0m\u001b[1;33m\u001b[0m\u001b[0m\n\u001b[0;32m     11\u001b[0m         \u001b[1;33m(\u001b[0m\u001b[0mθ_imp\u001b[0m\u001b[1;33m[\u001b[0m\u001b[1;33m:\u001b[0m\u001b[1;33m,\u001b[0m \u001b[0mk\u001b[0m\u001b[1;33m]\u001b[0m \u001b[1;33m+\u001b[0m \u001b[0mdt\u001b[0m \u001b[1;33m*\u001b[0m \u001b[0mBs\u001b[0m \u001b[1;33m@\u001b[0m \u001b[0mu\u001b[0m\u001b[1;33m[\u001b[0m\u001b[1;33m:\u001b[0m\u001b[1;33m,\u001b[0m \u001b[0mk\u001b[0m\u001b[1;33m]\u001b[0m\u001b[1;33m)\u001b[0m\u001b[1;33m\u001b[0m\u001b[1;33m\u001b[0m\u001b[0m\n",
      "\u001b[1;31mValueError\u001b[0m: matmul: Input operand 1 has a mismatch in its core dimension 0, with gufunc signature (n?,k),(k,m?)->(n?,m?) (size 12 is different from 6)"
     ]
    }
   ],
   "source": [
    "n_s = As.shape[0]                      # number of state variables\n",
    "θ_exp = np.zeros([n_s, t.shape[0]])    # explicit Euler in time t\n",
    "θ_imp = np.zeros([n_s, t.shape[0]])    # implicit Euler in time t\n",
    "\n",
    "I = np.eye(n_s)                        # identity matrix\n",
    "\n",
    "for k in range(n - 1):\n",
    "    θ_exp[:, k + 1] = (I + dt * As) @\\\n",
    "        θ_exp[:, k] + dt * Bs @ u[:, k]\n",
    "    θ_imp[:, k + 1] = np.linalg.inv(I - dt * As) @\\\n",
    "        (θ_imp[:, k] + dt * Bs @ u[:, k])"
   ]
  },
  {
   "cell_type": "markdown",
   "id": "9eb84390",
   "metadata": {},
   "source": [
    "we obtain"
   ]
  },
  {
   "cell_type": "code",
   "execution_count": null,
   "id": "c439548d",
   "metadata": {},
   "outputs": [],
   "source": [
    "y_exp = Cs @ θ_exp + Ds @  u\n",
    "y_imp = Cs @ θ_imp + Ds @  u"
   ]
  },
  {
   "cell_type": "markdown",
   "id": "e94c9664",
   "metadata": {},
   "source": [
    "The results of explicit and implicit Euler integration are practically identical."
   ]
  },
  {
   "cell_type": "code",
   "execution_count": null,
   "id": "c2de8e11",
   "metadata": {},
   "outputs": [],
   "source": [
    "fig, ax = plt.subplots()\n",
    "ax.plot(t / 3600, y_exp.T, t / 3600, y_imp.T)\n",
    "ax.set(xlabel='Time, $t$ / h',\n",
    "       ylabel='Temperatue, $θ_i$ / °C',\n",
    "       title='Step input: outdoor temperature $T_o$')\n",
    "ax.legend(['Explicit', 'Implicit'])\n",
    "ax.grid()\n",
    "plt.show()"
   ]
  },
  {
   "cell_type": "code",
   "execution_count": null,
   "id": "7b3c66cc",
   "metadata": {},
   "outputs": [],
   "source": []
  }
 ],
 "metadata": {
  "kernelspec": {
   "display_name": "Python 3 (ipykernel)",
   "language": "python",
   "name": "python3"
  },
  "language_info": {
   "codemirror_mode": {
    "name": "ipython",
    "version": 3
   },
   "file_extension": ".py",
   "mimetype": "text/x-python",
   "name": "python",
   "nbconvert_exporter": "python",
   "pygments_lexer": "ipython3",
   "version": "3.9.13"
  }
 },
 "nbformat": 4,
 "nbformat_minor": 5
}
